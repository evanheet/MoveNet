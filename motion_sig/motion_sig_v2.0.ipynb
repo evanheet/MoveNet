{
 "cells": [
  {
   "cell_type": "markdown",
   "metadata": {},
   "source": [
    "Main source:\n",
    "https://opencv-python-tutroals.readthedocs.io/en/latest/py_tutorials/py_video/py_lucas_kanade/py_lucas_kanade.html#lucas-kanade"
   ]
  },
  {
   "cell_type": "code",
   "execution_count": 1,
   "metadata": {},
   "outputs": [],
   "source": [
    "import os\n",
    "import numpy as np\n",
    "import cv2\n",
    "import time\n",
    "from imageio import imwrite\n",
    "from datetime import datetime"
   ]
  },
  {
   "cell_type": "code",
   "execution_count": 2,
   "metadata": {},
   "outputs": [],
   "source": [
    "from motion_sig_utils import array_to_image, end_loop_util, writeAnotationsToCV"
   ]
  },
  {
   "cell_type": "code",
   "execution_count": 3,
   "metadata": {},
   "outputs": [],
   "source": [
    "# in-notebook display\n",
    "import IPython.display"
   ]
  },
  {
   "cell_type": "markdown",
   "metadata": {},
   "source": [
    "### define paths"
   ]
  },
  {
   "cell_type": "code",
   "execution_count": 4,
   "metadata": {},
   "outputs": [],
   "source": [
    "data_path = r\"C:\\Users\\alexa\\Documents\\data\\mlproj_data\""
   ]
  },
  {
   "cell_type": "code",
   "execution_count": 5,
   "metadata": {},
   "outputs": [],
   "source": [
    "vid_folder='merayxu/campus'"
   ]
  },
  {
   "cell_type": "code",
   "execution_count": 6,
   "metadata": {},
   "outputs": [],
   "source": [
    "folders = os.listdir(os.path.join(data_path, vid_folder))\n",
    "folders = [f for f in folders if '.' not in f]\n",
    "vids = {}\n",
    "for f in folders:\n",
    "    vids[f] = os.listdir(os.path.join(data_path, vid_folder, f))\n",
    "    vids[f] = [v for v in vids[f] if 'mp4' in v]"
   ]
  },
  {
   "cell_type": "code",
   "execution_count": 7,
   "metadata": {},
   "outputs": [
    {
     "name": "stdout",
     "output_type": "stream",
     "text": [
      "C:\\Users\\alexa\\Documents\\data\\mlproj_data\\merayxu/campus\\Auditorium\\view-IP2.mp4\n"
     ]
    }
   ],
   "source": [
    "f = folders[0]\n",
    "v = 2\n",
    "vid_file = vids[f][v]\n",
    "vid_path = os.path.join(data_path, vid_folder, f, vid_file)\n",
    "print(vid_path)"
   ]
  },
  {
   "cell_type": "code",
   "execution_count": 8,
   "metadata": {},
   "outputs": [
    {
     "name": "stdout",
     "output_type": "stream",
     "text": [
      "C:\\Users\\alexa\\Documents\\data\\mlproj_data\\view-Contour2.mp4\n"
     ]
    }
   ],
   "source": [
    "vid_file = r\"Test video for Object Detection __ TRIDE.mp4\"\n",
    "vid_file = r\"view-Contour2.mp4\"\n",
    "vid_path = os.path.join(data_path,vid_file)\n",
    "print(vid_path)"
   ]
  },
  {
   "cell_type": "markdown",
   "metadata": {},
   "source": [
    "### video properties"
   ]
  },
  {
   "cell_type": "code",
   "execution_count": 9,
   "metadata": {},
   "outputs": [],
   "source": [
    "cap = cv2.VideoCapture(vid_path)"
   ]
  },
  {
   "cell_type": "code",
   "execution_count": 10,
   "metadata": {},
   "outputs": [
    {
     "name": "stdout",
     "output_type": "stream",
     "text": [
      "99.53 seconds\n",
      "30 fps\n",
      "2983 frames\n",
      "1920x1080\n"
     ]
    }
   ],
   "source": [
    "total_frame_count = cap.get(cv2.CAP_PROP_FRAME_COUNT)\n",
    "fps = cap.get(cv2.CAP_PROP_FPS)\n",
    "dur = total_frame_count / fps\n",
    "print('{:.2f} seconds'.format(dur))\n",
    "print('{:.0f} fps'.format(fps))\n",
    "print('{:.0f} frames'.format(total_frame_count))\n",
    "height = cap.get(cv2.CAP_PROP_FRAME_HEIGHT)\n",
    "width = cap.get(cv2.CAP_PROP_FRAME_WIDTH)\n",
    "print('{:.0f}x{:.0f}'.format(width,height))"
   ]
  },
  {
   "cell_type": "markdown",
   "metadata": {},
   "source": [
    "### run GF OF"
   ]
  },
  {
   "cell_type": "code",
   "execution_count": 11,
   "metadata": {},
   "outputs": [
    {
     "name": "stdout",
     "output_type": "stream",
     "text": [
      "stream interrupted\n",
      "\n",
      "normal speed: 20.02s\n",
      "run speed: 9.22s\n"
     ]
    }
   ],
   "source": [
    "cap = cv2.VideoCapture(vid_path)\n",
    "\n",
    "# set parameters\n",
    "sample_freq = 3 # seconds\n",
    "max_frame_count = 600\n",
    "OF_flag = True\n",
    "OF_frame_freq = int(fps * sample_freq)\n",
    "save_masks_flag = True\n",
    "save_frame_freq = OF_frame_freq # int(dur)\n",
    "save_raw_flag = False\n",
    "display_flag = False\n",
    "display_only_mask_flag = True\n",
    "reduce_reso_factor = 1.5\n",
    "reduce_reso_flag = True\n",
    "new_width = int(width/reduce_reso_factor)\n",
    "new_height = int(height/reduce_reso_factor)\n",
    "reset_mask = True\n",
    "write_csv_flag = True\n",
    "\n",
    "# initialize vars\n",
    "if display_flag: dipy = IPython.display.display(\"\", display_id=1)\n",
    "frame_count, img_count = 0, 0\n",
    "now_string = datetime.now().strftime(r'%Y%m%d_%H%M%S')\n",
    "t0 = time.time()\n",
    "\n",
    "ret, frame1 = cap.read()\n",
    "if reduce_reso_flag: frame1 = cv2.resize(frame1,(new_width,new_height),fx=0,fy=0, interpolation = cv2.INTER_CUBIC)\n",
    "prvs = cv2.cvtColor(frame1,cv2.COLOR_BGR2GRAY)\n",
    "hsv = np.zeros_like(frame1)\n",
    "hsv[...,1] = 255\n",
    "\n",
    "print('running through video...')\n",
    "while(True):\n",
    "    try:\n",
    "        # read frame\n",
    "        frame_count += 1\n",
    "        ret, frame = cap.read()\n",
    "       \n",
    "        # check stream finished or not\n",
    "        if not ret:\n",
    "            tend = end_loop_util(cap, \"stream finished\\n\")\n",
    "            break\n",
    "        \n",
    "        # optional: reduce resolution\n",
    "        if reduce_reso_flag:\n",
    "            frame = cv2.resize(frame,(new_width,new_height),fx=0,fy=0, interpolation = cv2.INTER_CUBIC)\n",
    "        \n",
    "        # get gray color space\n",
    "        frame_gray = cv2.cvtColor(frame, cv2.COLOR_BGR2GRAY)\n",
    "           \n",
    "        # apply optical flow\n",
    "        if OF_flag&(frame_count %  OF_frame_freq == 0):\n",
    "        \n",
    "            # calculate optical flow\n",
    "            flow = cv2.calcOpticalFlowFarneback(\n",
    "                prvs\n",
    "                ,frame_gray\n",
    "                ,flow=None\n",
    "                ,pyr_scale=0.5\n",
    "                ,levels=3\n",
    "                ,winsize=15\n",
    "                ,iterations=3\n",
    "                ,poly_n=5\n",
    "                ,poly_sigma=1.2\n",
    "                ,flags=0\n",
    "            )\n",
    "\n",
    "            # draw motion signature\n",
    "            mag, ang = cv2.cartToPolar(flow[...,0], flow[...,1])\n",
    "            hsv[...,0] = ang*180/np.pi/2\n",
    "            hsv[...,2] = cv2.normalize(mag,None,0,255,cv2.NORM_MINMAX)\n",
    "            mask = cv2.cvtColor(hsv,cv2.COLOR_HSV2BGR)\n",
    "            \n",
    "            # define output image\n",
    "            img = mask\n",
    "            if not display_only_mask_flag:\n",
    "                img = cv2.add(frame,img)\n",
    "        else:\n",
    "            # no optical flow: output image is original frame\n",
    "            img = frame\n",
    "            \n",
    "        # update previous frame once processed\n",
    "        prvs = frame_gray.copy()\n",
    "        \n",
    "        # display output image (mask / original frame / both)\n",
    "        if display_flag:\n",
    "            im = array_to_image(img)\n",
    "            dipy.update(im)\n",
    "        \n",
    "        # save mask\n",
    "        if (save_masks_flag)&(frame_count %  save_frame_freq == 0):\n",
    "            mask_amend = mask.copy()\n",
    "            #mask_amend[mask_amend == 0] = 255 # convert background from black to white\n",
    "            imwrite('masks/{}_mask_{}.jpg'.format(now_string,img_count+1), mask_amend)\n",
    "            img_count += 1\n",
    "            if reset_mask:\n",
    "                mask = np.zeros_like(mask)\n",
    "                \n",
    "            # save raw\n",
    "            if (save_raw_flag)&(frame_count % save_frame_freq == 0):\n",
    "                imwrite('masks/{}_raw_{}.jpg'.format(now_string,img_count), frame)\n",
    "                \n",
    "            # write log in csv\n",
    "            if write_csv_flag:\n",
    "                writeAnotationsToCV(vid_file,frame_count,'{}_mask_{}.jpg'.format(now_string,img_count),'masks/',now_string)\n",
    "        \n",
    "        # stop running if max_frame_count reached\n",
    "        if frame_count > max_frame_count:\n",
    "            tend = end_loop_util(cap, \"reached max frame count\\n\")\n",
    "            break\n",
    "            \n",
    "    except KeyboardInterrupt: # manual interruption\n",
    "        tend = end_loop_util(cap, \"stream interrupted\\n\")\n",
    "        break\n",
    "\n",
    "tend = time.time()\n",
    "print('normal speed: {:.2f}s'.format(max_frame_count / fps))\n",
    "print('run speed: {:.2f}s'.format(tend - t0))"
   ]
  }
 ],
 "metadata": {
  "kernelspec": {
   "display_name": "Python 3",
   "language": "python",
   "name": "python3"
  },
  "language_info": {
   "codemirror_mode": {
    "name": "ipython",
    "version": 3
   },
   "file_extension": ".py",
   "mimetype": "text/x-python",
   "name": "python",
   "nbconvert_exporter": "python",
   "pygments_lexer": "ipython3",
   "version": "3.6.6"
  }
 },
 "nbformat": 4,
 "nbformat_minor": 2
}
